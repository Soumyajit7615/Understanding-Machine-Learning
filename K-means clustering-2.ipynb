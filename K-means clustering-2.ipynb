{
 "cells": [
  {
   "cell_type": "markdown",
   "metadata": {},
   "source": [
    "## K-means clustering\n",
    "K-means clustering is one of the simplest and popular unsupervised machine learning algorithms.\n",
    "Typically, unsupervised algorithms make inferences from datasets using only input vectors without referring to known, or labelled, outcomes."
   ]
  },
  {
   "cell_type": "markdown",
   "metadata": {},
   "source": [
    "the objective of K-means is simple: group similar data points together and discover underlying patterns. To achieve this objective, K-means looks for a fixed number (k) of clusters in a dataset.”\n",
    "A cluster refers to a collection of data points aggregated together because of certain similarities."
   ]
  },
  {
   "cell_type": "markdown",
   "metadata": {},
   "source": [
    "You’ll define a target number k, which refers to the number of centroids you need in the dataset. A centroid is the imaginary or real location representing the center of the cluster.\n",
    "\n",
    "Every data point is allocated to each of the clusters through reducing the in-cluster sum of squares.\n",
    "In other words, the K-means algorithm identifies k number of centroids, and then allocates every data point to the nearest cluster, while keeping the centroids as small as possible.\n",
    "\n",
    "The ‘means’ in the K-means refers to averaging of the data; that is, finding the centroid.\n",
    "## How the K-means algorithm works\n",
    "To process the learning data, the K-means algorithm in data mining starts with a first group of randomly selected centroids, which are used as the beginning points for every cluster, and then performs iterative (repetitive) calculations to optimize the positions of the centroids\n",
    "\n",
    "### It halts creating and optimizing clusters when either:\n",
    "- The centroids have stabilized — there is no change in their values because the clustering has been successful.\n",
    "- The defined number of iterations has been achieved.\n",
    "\n",
    "### K-means algorithm example problem\n",
    "\n",
    "Let’s see the steps on how the K-means machine learning algorithm works using the Python programming language.\n",
    "We’ll use the Scikit-learn library and some random data to illustrate a K-means clustering simple explanation.\n",
    "## Step 1: Import libraries"
   ]
  },
  {
   "cell_type": "code",
   "execution_count": 18,
   "metadata": {},
   "outputs": [],
   "source": [
    "import pandas as pd\n",
    "import numpy as np\n",
    "import matplotlib.pyplot as plt\n",
    "from sklearn.cluster import KMeans\n",
    "%matplotlib inline"
   ]
  },
  {
   "cell_type": "markdown",
   "metadata": {},
   "source": [
    "As you can see from the above code, we’ll import the following libraries in our project:\n",
    "- Pandas for reading and writing spreadsheets\n",
    "- Numpy for carrying out efficient computations\n",
    "- Matplotlib for visualization of data\n",
    "\n",
    "## Step 2: Generate random data\n",
    "\n",
    "Here is the code for generating some random data in a two-dimensional space:"
   ]
  },
  {
   "cell_type": "code",
   "execution_count": 19,
   "metadata": {},
   "outputs": [
    {
     "name": "stdout",
     "output_type": "stream",
     "text": [
      "(100, 2)\n"
     ]
    },
    {
     "data": {
      "text/plain": [
       "array([[-1.52334905, -1.49814112],\n",
       "       [-1.33703759, -1.51581759],\n",
       "       [-1.73836816, -1.23539272],\n",
       "       [-0.2346215 , -0.0982964 ],\n",
       "       [-0.18549152, -0.45487653],\n",
       "       [-0.62493553, -0.33809029],\n",
       "       [-1.20390349, -1.88113206],\n",
       "       [-0.57391977, -1.80881987],\n",
       "       [-1.70158032, -1.16702178],\n",
       "       [-1.97740199, -1.76553075],\n",
       "       [-0.1808322 , -0.59023758],\n",
       "       [-0.01187005, -0.11575544],\n",
       "       [-0.12629092, -1.11046928],\n",
       "       [-1.733168  , -1.29721434],\n",
       "       [-0.75834637, -0.89192293],\n",
       "       [-0.30107823, -0.93744975],\n",
       "       [-1.70716523, -0.84581138],\n",
       "       [-1.31745821, -1.36471213],\n",
       "       [-0.12648076, -1.67745475],\n",
       "       [-1.38668324, -1.4626417 ],\n",
       "       [-0.02550591, -1.77342907],\n",
       "       [-0.61233939, -1.30114149],\n",
       "       [-0.65325173, -1.76317303],\n",
       "       [-1.8377223 , -1.32581192],\n",
       "       [-1.19506962, -1.20893403],\n",
       "       [-0.57014067, -1.17614372],\n",
       "       [-0.42702811, -1.44752546],\n",
       "       [-1.23636142, -0.84075161],\n",
       "       [-1.52530441, -0.11296688],\n",
       "       [-0.58227766, -0.59964794],\n",
       "       [-1.45818651, -1.25242652],\n",
       "       [-0.31087023, -1.14734597],\n",
       "       [-1.29045262, -0.32034264],\n",
       "       [-0.54409995, -1.66425404],\n",
       "       [-1.77053662, -1.82495433],\n",
       "       [-1.31476612, -1.83607648],\n",
       "       [-0.26029011, -1.60883385],\n",
       "       [-1.93563085, -0.30693725],\n",
       "       [-1.83134137, -0.70485482],\n",
       "       [-1.82789955, -1.0510422 ],\n",
       "       [-0.03797803, -1.76291516],\n",
       "       [-1.57198594, -0.85831058],\n",
       "       [-0.53336438, -1.67745355],\n",
       "       [-1.62072022, -0.92797101],\n",
       "       [-0.22178878, -1.04449726],\n",
       "       [-0.10313093, -0.11376615],\n",
       "       [-1.28104444, -0.92647939],\n",
       "       [-1.13186011, -0.82531558],\n",
       "       [-1.87398171, -0.71468989],\n",
       "       [-0.23757015, -0.13553446],\n",
       "       [-1.96616559, -1.04940096],\n",
       "       [-0.49678933, -0.58427084],\n",
       "       [-0.75451751, -1.87908557],\n",
       "       [-1.23332401, -0.49153521],\n",
       "       [-1.41837268, -1.67230925],\n",
       "       [-0.45710303, -0.72750266],\n",
       "       [-0.45377247, -0.16402582],\n",
       "       [-0.63966413, -1.95561061],\n",
       "       [-1.99307021, -1.5162636 ],\n",
       "       [-1.65537129, -0.3076147 ],\n",
       "       [-1.90345336, -0.83155886],\n",
       "       [-1.4843493 , -1.09833581],\n",
       "       [-1.80331741, -1.4214987 ],\n",
       "       [-0.72335628, -1.35126859],\n",
       "       [-1.72278588, -0.40651814],\n",
       "       [-0.3350863 , -0.78160932],\n",
       "       [-0.0169751 , -0.56641294],\n",
       "       [-1.21089439, -1.96097276],\n",
       "       [-1.2700156 , -1.9152793 ],\n",
       "       [-0.3207297 , -1.83445701],\n",
       "       [-0.41633743, -0.34939899],\n",
       "       [-1.60280812, -1.33933487],\n",
       "       [-1.03698025, -0.63022727],\n",
       "       [-1.03979293, -1.99434971],\n",
       "       [-1.48714557, -1.93218266],\n",
       "       [-1.50954509, -0.61380106],\n",
       "       [-1.06339464, -1.5531604 ],\n",
       "       [-1.78678317, -0.23564711],\n",
       "       [-1.60047406, -1.87813569],\n",
       "       [-0.08756126, -0.11851005],\n",
       "       [-0.57733715, -0.96746355],\n",
       "       [-0.36357126, -1.00724915],\n",
       "       [-1.74912153, -0.81471814],\n",
       "       [-0.56691913, -1.29920353],\n",
       "       [-1.74147951, -1.77941746],\n",
       "       [-0.36653742, -1.03779196],\n",
       "       [-0.45869165, -1.56941734],\n",
       "       [-0.90452539, -1.15796618],\n",
       "       [-1.47823115, -1.23443973],\n",
       "       [-0.13038764, -1.90121145],\n",
       "       [-0.96754543, -0.47057998],\n",
       "       [-0.39387644, -0.44510957],\n",
       "       [-1.72787173, -1.41351238],\n",
       "       [-1.66907022, -0.20608297],\n",
       "       [-0.474977  , -1.92071268],\n",
       "       [-1.376481  , -1.83050924],\n",
       "       [-1.25674752, -1.3393366 ],\n",
       "       [-1.41537633, -1.40384823],\n",
       "       [-0.26267492, -1.9480936 ],\n",
       "       [-0.69051801, -1.40530824]])"
      ]
     },
     "execution_count": 19,
     "metadata": {},
     "output_type": "execute_result"
    }
   ],
   "source": [
    "X= -2 * np.random.rand(100,2)\n",
    "print(X.shape)\n",
    "X"
   ]
  },
  {
   "cell_type": "code",
   "execution_count": 20,
   "metadata": {},
   "outputs": [
    {
     "data": {
      "text/plain": [
       "array([[1.89901907, 1.33111739],\n",
       "       [2.43987215, 1.11989728],\n",
       "       [1.7446894 , 1.24632421],\n",
       "       [1.02907554, 1.0598456 ],\n",
       "       [1.16647397, 1.27834425],\n",
       "       [1.81538886, 1.73246506],\n",
       "       [2.482766  , 2.6319862 ],\n",
       "       [2.85838232, 1.10045208],\n",
       "       [2.46227145, 1.01660651],\n",
       "       [2.22394212, 2.13548387],\n",
       "       [1.61332227, 1.60529052],\n",
       "       [1.64853506, 1.3427843 ],\n",
       "       [1.55511026, 2.40872673],\n",
       "       [2.76297231, 2.840771  ],\n",
       "       [1.66756811, 2.19387474],\n",
       "       [1.21714806, 2.0601033 ],\n",
       "       [2.04614932, 2.65771206],\n",
       "       [1.99716485, 2.36834212],\n",
       "       [2.1123458 , 2.97598086],\n",
       "       [2.5171566 , 2.08121165],\n",
       "       [1.33779241, 1.2345468 ],\n",
       "       [2.24628044, 1.39512484],\n",
       "       [2.14810286, 1.00607158],\n",
       "       [1.10547925, 1.16328691],\n",
       "       [1.96917375, 2.06932628],\n",
       "       [2.04937148, 2.14725063],\n",
       "       [1.89228549, 2.4675165 ],\n",
       "       [1.42762087, 2.32444681],\n",
       "       [2.52392801, 1.71215015],\n",
       "       [2.71267914, 2.2901662 ],\n",
       "       [2.162337  , 1.48862294],\n",
       "       [1.1519223 , 1.37890773],\n",
       "       [1.79643594, 2.91294247],\n",
       "       [1.66724014, 2.69890495],\n",
       "       [2.31497556, 1.99823269],\n",
       "       [1.49527384, 1.6919826 ],\n",
       "       [2.05457181, 2.36855148],\n",
       "       [1.33278681, 1.82153642],\n",
       "       [1.66846727, 1.90762177],\n",
       "       [1.76111466, 1.8447293 ],\n",
       "       [1.08347959, 2.04520769],\n",
       "       [1.44340591, 2.53063343],\n",
       "       [2.81185265, 2.89070549],\n",
       "       [1.57296669, 2.48058839],\n",
       "       [2.69150681, 2.8633485 ],\n",
       "       [2.24005858, 1.46503746],\n",
       "       [2.91878151, 2.18602449],\n",
       "       [2.89939172, 1.05568044],\n",
       "       [2.06128556, 2.26112718],\n",
       "       [2.38923638, 1.63280326]])"
      ]
     },
     "execution_count": 20,
     "metadata": {},
     "output_type": "execute_result"
    }
   ],
   "source": [
    "X1 = 1 + 2 * np.random.rand(50,2)\n",
    "X1"
   ]
  },
  {
   "cell_type": "code",
   "execution_count": 21,
   "metadata": {},
   "outputs": [
    {
     "data": {
      "text/plain": [
       "array([[-1.52334905, -1.49814112],\n",
       "       [-1.33703759, -1.51581759],\n",
       "       [-1.73836816, -1.23539272],\n",
       "       [-0.2346215 , -0.0982964 ],\n",
       "       [-0.18549152, -0.45487653],\n",
       "       [-0.62493553, -0.33809029],\n",
       "       [-1.20390349, -1.88113206],\n",
       "       [-0.57391977, -1.80881987],\n",
       "       [-1.70158032, -1.16702178],\n",
       "       [-1.97740199, -1.76553075],\n",
       "       [-0.1808322 , -0.59023758],\n",
       "       [-0.01187005, -0.11575544],\n",
       "       [-0.12629092, -1.11046928],\n",
       "       [-1.733168  , -1.29721434],\n",
       "       [-0.75834637, -0.89192293],\n",
       "       [-0.30107823, -0.93744975],\n",
       "       [-1.70716523, -0.84581138],\n",
       "       [-1.31745821, -1.36471213],\n",
       "       [-0.12648076, -1.67745475],\n",
       "       [-1.38668324, -1.4626417 ],\n",
       "       [-0.02550591, -1.77342907],\n",
       "       [-0.61233939, -1.30114149],\n",
       "       [-0.65325173, -1.76317303],\n",
       "       [-1.8377223 , -1.32581192],\n",
       "       [-1.19506962, -1.20893403],\n",
       "       [-0.57014067, -1.17614372],\n",
       "       [-0.42702811, -1.44752546],\n",
       "       [-1.23636142, -0.84075161],\n",
       "       [-1.52530441, -0.11296688],\n",
       "       [-0.58227766, -0.59964794],\n",
       "       [-1.45818651, -1.25242652],\n",
       "       [-0.31087023, -1.14734597],\n",
       "       [-1.29045262, -0.32034264],\n",
       "       [-0.54409995, -1.66425404],\n",
       "       [-1.77053662, -1.82495433],\n",
       "       [-1.31476612, -1.83607648],\n",
       "       [-0.26029011, -1.60883385],\n",
       "       [-1.93563085, -0.30693725],\n",
       "       [-1.83134137, -0.70485482],\n",
       "       [-1.82789955, -1.0510422 ],\n",
       "       [-0.03797803, -1.76291516],\n",
       "       [-1.57198594, -0.85831058],\n",
       "       [-0.53336438, -1.67745355],\n",
       "       [-1.62072022, -0.92797101],\n",
       "       [-0.22178878, -1.04449726],\n",
       "       [-0.10313093, -0.11376615],\n",
       "       [-1.28104444, -0.92647939],\n",
       "       [-1.13186011, -0.82531558],\n",
       "       [-1.87398171, -0.71468989],\n",
       "       [-0.23757015, -0.13553446],\n",
       "       [ 1.89901907,  1.33111739],\n",
       "       [ 2.43987215,  1.11989728],\n",
       "       [ 1.7446894 ,  1.24632421],\n",
       "       [ 1.02907554,  1.0598456 ],\n",
       "       [ 1.16647397,  1.27834425],\n",
       "       [ 1.81538886,  1.73246506],\n",
       "       [ 2.482766  ,  2.6319862 ],\n",
       "       [ 2.85838232,  1.10045208],\n",
       "       [ 2.46227145,  1.01660651],\n",
       "       [ 2.22394212,  2.13548387],\n",
       "       [ 1.61332227,  1.60529052],\n",
       "       [ 1.64853506,  1.3427843 ],\n",
       "       [ 1.55511026,  2.40872673],\n",
       "       [ 2.76297231,  2.840771  ],\n",
       "       [ 1.66756811,  2.19387474],\n",
       "       [ 1.21714806,  2.0601033 ],\n",
       "       [ 2.04614932,  2.65771206],\n",
       "       [ 1.99716485,  2.36834212],\n",
       "       [ 2.1123458 ,  2.97598086],\n",
       "       [ 2.5171566 ,  2.08121165],\n",
       "       [ 1.33779241,  1.2345468 ],\n",
       "       [ 2.24628044,  1.39512484],\n",
       "       [ 2.14810286,  1.00607158],\n",
       "       [ 1.10547925,  1.16328691],\n",
       "       [ 1.96917375,  2.06932628],\n",
       "       [ 2.04937148,  2.14725063],\n",
       "       [ 1.89228549,  2.4675165 ],\n",
       "       [ 1.42762087,  2.32444681],\n",
       "       [ 2.52392801,  1.71215015],\n",
       "       [ 2.71267914,  2.2901662 ],\n",
       "       [ 2.162337  ,  1.48862294],\n",
       "       [ 1.1519223 ,  1.37890773],\n",
       "       [ 1.79643594,  2.91294247],\n",
       "       [ 1.66724014,  2.69890495],\n",
       "       [ 2.31497556,  1.99823269],\n",
       "       [ 1.49527384,  1.6919826 ],\n",
       "       [ 2.05457181,  2.36855148],\n",
       "       [ 1.33278681,  1.82153642],\n",
       "       [ 1.66846727,  1.90762177],\n",
       "       [ 1.76111466,  1.8447293 ],\n",
       "       [ 1.08347959,  2.04520769],\n",
       "       [ 1.44340591,  2.53063343],\n",
       "       [ 2.81185265,  2.89070549],\n",
       "       [ 1.57296669,  2.48058839],\n",
       "       [ 2.69150681,  2.8633485 ],\n",
       "       [ 2.24005858,  1.46503746],\n",
       "       [ 2.91878151,  2.18602449],\n",
       "       [ 2.89939172,  1.05568044],\n",
       "       [ 2.06128556,  2.26112718],\n",
       "       [ 2.38923638,  1.63280326]])"
      ]
     },
     "execution_count": 21,
     "metadata": {},
     "output_type": "execute_result"
    }
   ],
   "source": [
    "X[50:100, :] = X1\n",
    "X"
   ]
  },
  {
   "cell_type": "code",
   "execution_count": 22,
   "metadata": {},
   "outputs": [
    {
     "data": {
      "image/png": "[encoded data removed]",
      "text/plain": [
       "<Figure size 432x288 with 1 Axes>"
      ]
     },
     "metadata": {
      "needs_background": "light"
     },
     "output_type": "display_data"
    }
   ],
   "source": [
    "plt.scatter(X[ : , 0], X[ :, 1], s = 50, c = 'b')\n",
    "plt.show()"
   ]
  },
  {
   "cell_type": "markdown",
   "metadata": {},
   "source": [
    "A total of 100 data points has been generated and divided into two groups, of 50 points each.\n",
    "Here is how the data is displayed on a two-dimensional space:"
   ]
  },
  {
   "cell_type": "markdown",
   "metadata": {},
   "source": [
    "## Step 3: Use Scikit-Learn\n",
    "We’ll use some of the available functions in the Scikit-learn library to process the randomly generated data.\n",
    "Here is the code:"
   ]
  },
  {
   "cell_type": "code",
   "execution_count": 41,
   "metadata": {},
   "outputs": [
    {
     "data": {
      "text/plain": [
       "KMeans(algorithm='auto', copy_x=True, init='k-means++', max_iter=300,\n",
       "       n_clusters=2, n_init=10, n_jobs=None, precompute_distances='auto',\n",
       "       random_state=None, tol=0.0001, verbose=0)"
      ]
     },
     "execution_count": 41,
     "metadata": {},
     "output_type": "execute_result"
    }
   ],
   "source": [
    "from sklearn.cluster import KMeans\n",
    "Kmean = KMeans(n_clusters=2)\n",
    "Kmean.fit(X)"
   ]
  },
  {
   "cell_type": "markdown",
   "metadata": {},
   "source": [
    "In this case, we arbitrarily gave k (n_clusters) an arbitrary value of two.\n",
    "Here is the output of the K-means parameters we get if we run the code:"
   ]
  },
  {
   "cell_type": "markdown",
   "metadata": {},
   "source": [
    "## Step 4: Finding the centroid\n",
    "Here is the code for finding the center of the clusters:"
   ]
  },
  {
   "cell_type": "code",
   "execution_count": 33,
   "metadata": {},
   "outputs": [
    {
     "data": {
      "text/plain": [
       "array([[-0.91959366, -1.58197235],\n",
       "       [ 1.96819929,  2.07392404],\n",
       "       [-0.84600294, -0.41339566]])"
      ]
     },
     "execution_count": 33,
     "metadata": {},
     "output_type": "execute_result"
    }
   ],
   "source": [
    "Kmean.cluster_centers_"
   ]
  },
  {
   "cell_type": "markdown",
   "metadata": {},
   "source": [
    "Let’s display the cluster centroids (using green and red color)."
   ]
  },
  {
   "cell_type": "code",
   "execution_count": 34,
   "metadata": {},
   "outputs": [
    {
     "data": {
      "image/png": "[encoded data removed]",
      "text/plain": [
       "<Figure size 432x288 with 1 Axes>"
      ]
     },
     "metadata": {
      "needs_background": "light"
     },
     "output_type": "display_data"
    }
   ],
   "source": [
    "plt.scatter(X[ : , 0], X[ : , 1], s =50, c='b')\n",
    "plt.scatter(-0.94665068, -0.97138368, s=200, c='g', marker='s')\n",
    "plt.scatter(2.01559419, 2.02597093, s=200, c='r', marker='s')\n",
    "plt.show()"
   ]
  },
  {
   "cell_type": "markdown",
   "metadata": {},
   "source": [
    "## Step 5: Testing the algorithm\n",
    "Here is the code for getting the labels property of the K-means clustering example dataset; that is, how the data points are categorized into the two clusters."
   ]
  },
  {
   "cell_type": "code",
   "execution_count": 35,
   "metadata": {},
   "outputs": [
    {
     "data": {
      "text/plain": [
       "array([2, 0, 0, 0, 0, 0, 2, 2, 2, 0, 0, 2, 2, 2, 2, 2, 2, 2, 2, 2, 2, 2,\n",
       "       2, 2, 0, 2, 2, 2, 0, 2, 2, 0, 2, 0, 0, 2, 2, 0, 0, 0, 2, 2, 2, 2,\n",
       "       2, 0, 0, 2, 0, 0, 1, 1, 1, 1, 1, 1, 1, 1, 1, 1, 1, 1, 1, 1, 1, 1,\n",
       "       1, 1, 1, 1, 1, 1, 1, 1, 1, 1, 1, 1, 1, 1, 1, 1, 1, 1, 1, 1, 1, 1,\n",
       "       1, 1, 1, 1, 1, 1, 1, 1, 1, 1, 1, 1])"
      ]
     },
     "execution_count": 35,
     "metadata": {},
     "output_type": "execute_result"
    }
   ],
   "source": [
    "Kmean.labels_"
   ]
  },
  {
   "cell_type": "markdown",
   "metadata": {},
   "source": [
    "As you can see above, 50 data points belong to the 0 cluster while the rest belong to the 1 cluster.\n",
    "For example, let’s use the code below for predicting the cluster of a data point:"
   ]
  },
  {
   "cell_type": "code",
   "execution_count": 36,
   "metadata": {},
   "outputs": [
    {
     "data": {
      "text/plain": [
       "array([-3., -3.])"
      ]
     },
     "execution_count": 36,
     "metadata": {},
     "output_type": "execute_result"
    }
   ],
   "source": [
    "sample_test=np.array([-3.0,-3.0])\n",
    "sample_test"
   ]
  },
  {
   "cell_type": "code",
   "execution_count": 37,
   "metadata": {},
   "outputs": [
    {
     "data": {
      "text/plain": [
       "array([[-3., -3.]])"
      ]
     },
     "execution_count": 37,
     "metadata": {},
     "output_type": "execute_result"
    }
   ],
   "source": [
    "# for two dimension array\n",
    "second_test=sample_test.reshape(1,-1)\n",
    "second_test"
   ]
  },
  {
   "cell_type": "code",
   "execution_count": 38,
   "metadata": {},
   "outputs": [
    {
     "data": {
      "text/plain": [
       "(1, 2)"
      ]
     },
     "execution_count": 38,
     "metadata": {},
     "output_type": "execute_result"
    }
   ],
   "source": [
    "second_test.shape"
   ]
  },
  {
   "cell_type": "code",
   "execution_count": 39,
   "metadata": {},
   "outputs": [
    {
     "data": {
      "text/plain": [
       "array([0])"
      ]
     },
     "execution_count": 39,
     "metadata": {},
     "output_type": "execute_result"
    }
   ],
   "source": [
    "Kmean.predict(second_test)"
   ]
  },
  {
   "cell_type": "markdown",
   "metadata": {},
   "source": [
    "K-means clustering is an extensively used technique for data cluster analysis.\n",
    "It is easy to understand, especially if you accelerate your learning using a K-means clustering tutorial. Furthermore, it delivers training results quickly.\n",
    "\n",
    "However, its performance is usually not as competitive as those of the other sophisticated clustering techniques because slight variations in the data could lead to high variance.\n",
    "Furthermore, clusters are assumed to be spherical and evenly sized, something which may reduce the accuracy of the K-means clustering Python results."
   ]
  },
  {
   "cell_type": "code",
   "execution_count": 40,
   "metadata": {},
   "outputs": [
    {
     "data": {
      "image/png": "[encoded data removed]",
      "text/plain": [
       "<Figure size 432x288 with 1 Axes>"
      ]
     },
     "metadata": {
      "needs_background": "light"
     },
     "output_type": "display_data"
    },
    {
     "data": {
      "image/png": "[encoded data removed]",
      "text/plain": [
       "<Figure size 432x288 with 1 Axes>"
      ]
     },
     "metadata": {
      "needs_background": "light"
     },
     "output_type": "display_data"
    },
    {
     "data": {
      "text/plain": [
       "array([0])"
      ]
     },
     "execution_count": 40,
     "metadata": {},
     "output_type": "execute_result"
    }
   ],
   "source": [
    "import pandas as pd\n",
    "import numpy as np\n",
    "import matplotlib.pyplot as plt\n",
    "from sklearn.cluster import KMeans\n",
    "%matplotlib inline\n",
    "X= -2 * np.random.rand(100,2)\n",
    "X1 = 1 + 2 * np.random.rand(50,2)\n",
    "X[50:100, :] = X1\n",
    "plt.scatter(X[ : , 0], X[ :, 1], s = 50, c = 'b')\n",
    "plt.show()\n",
    "from sklearn.cluster import KMeans\n",
    "Kmean = KMeans(n_clusters=2)\n",
    "Kmean.fit(X)\n",
    "Kmean.cluster_centers_\n",
    "plt.scatter(X[ : , 0], X[ : , 1], s =50, c='b')\n",
    "plt.scatter(-0.94665068, -0.97138368, s=200, c='g', marker='s')\n",
    "plt.scatter(2.01559419, 2.02597093, s=200, c='r', marker='s')\n",
    "plt.show()\n",
    "Kmean.labels_\n",
    "sample_test=np.array([2.0,2.0])\n",
    "second_test=sample_test.reshape(1, -1)\n",
    "Kmean.predict(second_test)"
   ]
  },
  {
   "cell_type": "code",
   "execution_count": 44,
   "metadata": {},
   "outputs": [],
   "source": [
    "wcss=[]\n",
    "for i in range(1,11):\n",
    "    km=KMeans(n_clusters=i)\n",
    "    km.fit(X)\n",
    "    wcss.append(km.inertia_)"
   ]
  },
  {
   "cell_type": "code",
   "execution_count": 45,
   "metadata": {},
   "outputs": [
    {
     "data": {
      "text/plain": [
       "[565.2643358250892,\n",
       " 69.94635242821953,\n",
       " 54.123999401553526,\n",
       " 40.944852772895956,\n",
       " 32.65348813770087,\n",
       " 24.917935335488888,\n",
       " 19.49253321034645,\n",
       " 14.963489706162104,\n",
       " 12.8667841612093,\n",
       " 11.701690274055967]"
      ]
     },
     "execution_count": 45,
     "metadata": {},
     "output_type": "execute_result"
    }
   ],
   "source": [
    "wcss"
   ]
  },
  {
   "cell_type": "code",
   "execution_count": 46,
   "metadata": {},
   "outputs": [
    {
     "data": {
      "text/plain": [
       "[<matplotlib.lines.Line2D at 0x29c1fe57cc8>]"
      ]
     },
     "execution_count": 46,
     "metadata": {},
     "output_type": "execute_result"
    },
    {
     "data": {
      "image/png": "[encoded data removed]",
      "text/plain": [
       "<Figure size 432x288 with 1 Axes>"
      ]
     },
     "metadata": {
      "needs_background": "light"
     },
     "output_type": "display_data"
    }
   ],
   "source": [
    "plt.plot(range(1,11), wcss)"
   ]
  },
  {
   "cell_type": "code",
   "execution_count": 48,
   "metadata": {},
   "outputs": [],
   "source": [
    "km=KMeans(n_clusters=2)"
   ]
  },
  {
   "cell_type": "code",
   "execution_count": 52,
   "metadata": {},
   "outputs": [
    {
     "data": {
      "text/plain": [
       "array([0, 0, 0, 0, 0, 0, 0, 0, 0, 0, 0, 0, 0, 0, 0, 0, 0, 0, 0, 0, 0, 0,\n",
       "       0, 0, 0, 0, 0, 0, 0, 0, 0, 0, 0, 0, 0, 0, 0, 0, 0, 0, 0, 0, 0, 0,\n",
       "       0, 0, 0, 0, 0, 0, 1, 1, 1, 1, 1, 1, 1, 1, 1, 1, 1, 1, 1, 1, 1, 1,\n",
       "       1, 1, 1, 1, 1, 1, 1, 1, 1, 1, 1, 1, 1, 1, 1, 1, 1, 1, 1, 1, 1, 1,\n",
       "       1, 1, 1, 1, 1, 1, 1, 1, 1, 1, 1, 1])"
      ]
     },
     "execution_count": 52,
     "metadata": {},
     "output_type": "execute_result"
    }
   ],
   "source": [
    "y_pred=km.fit_predict(X)\n",
    "y_pred"
   ]
  },
  {
   "cell_type": "code",
   "execution_count": 64,
   "metadata": {},
   "outputs": [
    {
     "data": {
      "text/plain": [
       "<matplotlib.collections.PathCollection at 0x29c2019b7c8>"
      ]
     },
     "execution_count": 64,
     "metadata": {},
     "output_type": "execute_result"
    },
    {
     "data": {
      "image/png": "[encoded data removed]",
      "text/plain": [
       "<Figure size 432x288 with 1 Axes>"
      ]
     },
     "metadata": {
      "needs_background": "light"
     },
     "output_type": "display_data"
    }
   ],
   "source": [
    "plt.scatter(X[y_pred==0,0],X[y_pred==0,1], color='red')\n",
    "plt.scatter(X[y_pred==1,0],X[y_pred==1,1], color='green')\n"
   ]
  },
  {
   "cell_type": "code",
   "execution_count": null,
   "metadata": {},
   "outputs": [],
   "source": []
  },
  {
   "cell_type": "code",
   "execution_count": null,
   "metadata": {},
   "outputs": [],
   "source": []
  },
  {
   "cell_type": "code",
   "execution_count": null,
   "metadata": {},
   "outputs": [],
   "source": []
  },
  {
   "cell_type": "code",
   "execution_count": null,
   "metadata": {},
   "outputs": [],
   "source": []
  }
 ],
 "metadata": {
  "kernelspec": {
   "display_name": "Python 3",
   "language": "python",
   "name": "python3"
  },
  "language_info": {
   "codemirror_mode": {
    "name": "ipython",
    "version": 3
   },
   "file_extension": ".py",
   "mimetype": "text/x-python",
   "name": "python",
   "nbconvert_exporter": "python",
   "pygments_lexer": "ipython3",
   "version": "3.7.6"
  }
 },
 "nbformat": 4,
 "nbformat_minor": 4
}
