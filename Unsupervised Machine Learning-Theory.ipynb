{
 "cells": [
  {
   "cell_type": "markdown",
   "metadata": {},
   "source": [
    "## Unsupervised Machine Learning\n",
    "In the previous topic, we learned supervised machine learning in which models are trained using labeled data under the supervision of training data. But there may be many cases in which we do not have labeled data and need to find the hidden patterns from the given dataset. So, to solve such types of cases in machine learning, we need unsupervised learning techniques.\n",
    "\n",
    "## What is Unsupervised Learning?\n",
    "As the name suggests, unsupervised learning is a machine learning technique in which models are not supervised using training dataset. Instead, models itself find the hidden patterns and insights from the given data. It can be compared to learning which takes place in the human brain while learning new things. It can be defined as:\n",
    "\n",
    "\"Unsupervised learning is a type of machine learning in which models are trained using unlabeled dataset and are allowed to act on that data without any supervision.\"\n",
    "\n",
    "Unsupervised learning cannot be directly applied to a regression or classification problem because unlike supervised learning, we have the input data but no corresponding output data. The goal of unsupervised learning is to find the underlying structure of dataset, group that data according to similarities, and represent that dataset in a compressed format.\n",
    "\n",
    "\n",
    "<h3>Example:</h3> Suppose the unsupervised learning algorithm is given an input dataset containing images of different types of cats and dogs. The algorithm is never trained upon the given dataset, which means it does not have any idea about the features of the dataset. The task of the unsupervised learning algorithm is to identify the image features on their own. Unsupervised learning algorithm will perform this task by clustering the image dataset into the groups according to similarities between images.\n",
    "\n",
    "### Why use Unsupervised Learning?\n",
    "Below are some main reasons which describe the importance of Unsupervised Learning:\n",
    "\n",
    "- Unsupervised learning is helpful for finding useful insights from the data.\n",
    "- Unsupervised learning is much similar as a human learns to think by their own experiences, which makes it closer to the real AI.\n",
    "- Unsupervised learning works on unlabeled and uncategorized data which make unsupervised learning more important.\n",
    "- In real-world, we do not always have input data with the corresponding output so to solve such cases, we need unsupervised learning.\n",
    "## Working of Unsupervised Learning\n",
    "Working of unsupervised learning can be understood by the below diagram:\n",
    "\n",
    "Here, we have taken an unlabeled input data, which means it is not categorized and corresponding outputs are also not given. Now, this unlabeled input data is fed to the machine learning model in order to train it. Firstly, it will interpret the raw data to find the hidden patterns from the data and then will apply suitable algorithms such as k-means clustering, Decision tree, etc.\n",
    "\n",
    "Once it applies the suitable algorithm, the algorithm divides the data objects into groups according to the similarities and difference between the objects.\n",
    "## Types of Unsupervised Learning Algorithm:\n",
    "The unsupervised learning algorithm can be further categorized into two types of problems:\n",
    "\n",
    "\n",
    "### Clustering:\n",
    "Clustering is a method of grouping the objects into clusters such that objects with most similarities remains into a group and has less or no similarities with the objects of another group. Cluster analysis finds the commonalities between the data objects and categorizes them as per the presence and absence of those commonalities.\n",
    "### Association: \n",
    "An association rule is an unsupervised learning method which is used for finding the relationships between variables in the large database. It determines the set of items that occurs together in the dataset. Association rule makes marketing strategy more effective. Such as people who buy X item (suppose a bread) are also tend to purchase Y (Butter/Jam) item. A typical example of Association rule is Market Basket Analysis.\n",
    "\n",
    "## Unsupervised Learning algorithms:\n",
    "Below is the list of some popular unsupervised learning algorithms:\n",
    "\n",
    "- K-means clustering\n",
    "- KNN (k-nearest neighbors)\n",
    "- Hierarchal clustering\n",
    "- Anomaly detection\n",
    "- Neural Networks\n",
    "- Principle Component Analysis\n",
    "- Independent Component Analysis\n",
    "- Apriori algorithm\n",
    "- Singular value decomposition\n",
    "## Advantages of Unsupervised Learning\n",
    "- Unsupervised learning is used for more complex tasks as compared to supervised learning because, in unsupervised learning, we don't have labeled input data.\n",
    "- Unsupervised learning is preferable as it is easy to get unlabeled data in comparison to labeled data.\n",
    "## Disadvantages of Unsupervised Learning\n",
    "- Unsupervised learning is intrinsically more difficult than supervised learning as it does not have corresponding output.\n",
    "- The result of the unsupervised learning algorithm might be less accurate as input data is not labeled, and algorithms do not know the exact output in advance.\n",
    "\n",
    "\n",
    "\n",
    "\n"
   ]
  },
  {
   "cell_type": "code",
   "execution_count": null,
   "metadata": {},
   "outputs": [],
   "source": []
  }
 ],
 "metadata": {
  "kernelspec": {
   "display_name": "Python 3",
   "language": "python",
   "name": "python3"
  },
  "language_info": {
   "codemirror_mode": {
    "name": "ipython",
    "version": 3
   },
   "file_extension": ".py",
   "mimetype": "text/x-python",
   "name": "python",
   "nbconvert_exporter": "python",
   "pygments_lexer": "ipython3",
   "version": "3.7.6"
  }
 },
 "nbformat": 4,
 "nbformat_minor": 4
}
